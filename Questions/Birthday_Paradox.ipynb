{
  "nbformat": 4,
  "nbformat_minor": 0,
  "metadata": {
    "colab": {
      "provenance": [],
      "authorship_tag": "ABX9TyP7Wc+vXXG42yVilszoEv0n",
      "include_colab_link": true
    },
    "kernelspec": {
      "name": "python3",
      "display_name": "Python 3"
    },
    "language_info": {
      "name": "python"
    }
  },
  "cells": [
    {
      "cell_type": "markdown",
      "metadata": {
        "id": "view-in-github",
        "colab_type": "text"
      },
      "source": [
        "<a href=\"https://colab.research.google.com/github/Koder-Kartik/Programming-in-Python/blob/main/Questions/Birthday_Paradox.ipynb\" target=\"_parent\"><img src=\"https://colab.research.google.com/assets/colab-badge.svg\" alt=\"Open In Colab\"/></a>"
      ]
    },
    {
      "cell_type": "code",
      "execution_count": 45,
      "metadata": {
        "colab": {
          "base_uri": "https://localhost:8080/"
        },
        "id": "RwI2v6efVO4U",
        "outputId": "79799408-3785-4e8c-f9e6-767ff65a8316"
      },
      "outputs": [
        {
          "output_type": "stream",
          "name": "stdout",
          "text": [
            "[3, 15, 48, 59, 64, 65, 66, 86, 130, 130, 150, 151, 155, 170, 175, 175, 207, 217, 230, 272, 281, 287, 314]\n",
            "repeats 130 130\n",
            "repeats 175 175\n"
          ]
        }
      ],
      "source": [
        "import random\n",
        "l = []\n",
        "for i in range(23):\n",
        "  l.append(random.randint(1,365))\n",
        "  #append numbers between (1,365)\n",
        "  #append 30 of them\n",
        "l.sort()\n",
        "print(l)\n",
        "flag=0 #denotes there is no repition\n",
        "for i in range(len(l)-1):\n",
        "  if(l[i] == l[i+1]):\n",
        "    print('repeats', l[i], l[i+1])\n",
        "    flag=1\n",
        "\n",
        "if flag==0:\n",
        "     print('no')\n",
        "\n",
        ""
      ]
    },
    {
      "cell_type": "code",
      "source": [],
      "metadata": {
        "id": "hpCpBuPQXxvm"
      },
      "execution_count": null,
      "outputs": []
    }
  ]
}