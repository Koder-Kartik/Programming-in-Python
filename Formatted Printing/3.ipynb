{
  "nbformat": 4,
  "nbformat_minor": 0,
  "metadata": {
    "colab": {
      "provenance": [],
      "authorship_tag": "ABX9TyOem8+iYrBX+g1BwMCcNBkw",
      "include_colab_link": true
    },
    "kernelspec": {
      "name": "python3",
      "display_name": "Python 3"
    },
    "language_info": {
      "name": "python"
    }
  },
  "cells": [
    {
      "cell_type": "markdown",
      "metadata": {
        "id": "view-in-github",
        "colab_type": "text"
      },
      "source": [
        "<a href=\"https://colab.research.google.com/github/Koder-Kartik/Programming-in-Python/blob/main/Formatted%20Printing/3.ipynb\" target=\"_parent\"><img src=\"https://colab.research.google.com/assets/colab-badge.svg\" alt=\"Open In Colab\"/></a>"
      ]
    },
    {
      "cell_type": "code",
      "execution_count": 1,
      "metadata": {
        "colab": {
          "base_uri": "https://localhost:8080/"
        },
        "id": "tpf-o58yu1m3",
        "outputId": "0ccf7833-1e02-466a-e6ee-a044b132b104"
      },
      "outputs": [
        {
          "output_type": "stream",
          "name": "stdout",
          "text": [
            "value of pi is 3.142857142857143\n",
            "value of pi is 3.142857142857143\n",
            "value of pi is 3.143\n",
            "value of pi is 3.14\n",
            "Value of PI =3.142857\n",
            "Value of PI =3.14286\n"
          ]
        }
      ],
      "source": [
        "pi=22/7\n",
        "print (f'value of pi is {pi}')\n",
        "print ('value of pi is {0}'.format(pi))\n",
        "print ('value of pi is {0:.3f}'.format(pi))\n",
        "print (f'value of pi is {pi:.2f}')\n",
        "print ('Value of PI =%f'%(pi))\n",
        "print ('Value of PI =%0.5f'%(pi))\n"
      ]
    },
    {
      "cell_type": "code",
      "source": [
        "print('{0:5d}'.format(1))\n",
        "print('{0:5d}'.format(11))\n",
        "print('{0:5d}'.format(111))\n",
        "print('{0:5d}'.format(1111))\n",
        "print('{0:5d}'.format(11111))"
      ],
      "metadata": {
        "colab": {
          "base_uri": "https://localhost:8080/"
        },
        "id": "c4O2ISmhu829",
        "outputId": "69c48cd0-86cc-4943-8a53-506983fb935b"
      },
      "execution_count": 2,
      "outputs": [
        {
          "output_type": "stream",
          "name": "stdout",
          "text": [
            "    1\n",
            "   11\n",
            "  111\n",
            " 1111\n",
            "11111\n"
          ]
        }
      ]
    }
  ]
}