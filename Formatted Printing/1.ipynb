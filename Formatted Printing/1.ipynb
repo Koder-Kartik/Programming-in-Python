{
  "nbformat": 4,
  "nbformat_minor": 0,
  "metadata": {
    "colab": {
      "provenance": [],
      "authorship_tag": "ABX9TyP+cFsjI1MVRCQ+FftSWXNJ",
      "include_colab_link": true
    },
    "kernelspec": {
      "name": "python3",
      "display_name": "Python 3"
    },
    "language_info": {
      "name": "python"
    }
  },
  "cells": [
    {
      "cell_type": "markdown",
      "metadata": {
        "id": "view-in-github",
        "colab_type": "text"
      },
      "source": [
        "<a href=\"https://colab.research.google.com/github/Koder-Kartik/Programming-in-Python/blob/main/Formatted%20Printing/1.ipynb\" target=\"_parent\"><img src=\"https://colab.research.google.com/assets/colab-badge.svg\" alt=\"Open In Colab\"/></a>"
      ]
    },
    {
      "cell_type": "code",
      "execution_count": null,
      "metadata": {
        "colab": {
          "base_uri": "https://localhost:8080/"
        },
        "id": "aREkqXWZXKOm",
        "outputId": "bfc915f6-a31e-459a-9c06-22913cf76330"
      },
      "outputs": [
        {
          "output_type": "stream",
          "name": "stdout",
          "text": [
            "0 1 2 3 4 5 6 7 8 9 "
          ]
        }
      ],
      "source": [
        "for x in range (10):\n",
        "  print(x,end=' ')"
      ]
    },
    {
      "cell_type": "code",
      "source": [
        "d=10\n",
        "m=5\n",
        "y=2022\n",
        "print(\"Today's date is\",end=' ')\n",
        "print(d,m,y,sep='/')"
      ],
      "metadata": {
        "colab": {
          "base_uri": "https://localhost:8080/"
        },
        "id": "bV6SKu4LX3Zn",
        "outputId": "ba334e00-de58-4b35-97a9-bb4a76f04e15"
      },
      "execution_count": null,
      "outputs": [
        {
          "output_type": "stream",
          "name": "stdout",
          "text": [
            "Today's date is 10/5/2022\n"
          ]
        }
      ]
    }
  ]
}