{
  "nbformat": 4,
  "nbformat_minor": 0,
  "metadata": {
    "colab": {
      "provenance": [],
      "authorship_tag": "ABX9TyM0mGR5ClB5mzl5upW/OnC0",
      "include_colab_link": true
    },
    "kernelspec": {
      "name": "python3",
      "display_name": "Python 3"
    },
    "language_info": {
      "name": "python"
    }
  },
  "cells": [
    {
      "cell_type": "markdown",
      "metadata": {
        "id": "view-in-github",
        "colab_type": "text"
      },
      "source": [
        "<a href=\"https://colab.research.google.com/github/Koder-Kartik/Programming-in-Python/blob/main/Formatted%20Printing/2.ipynb\" target=\"_parent\"><img src=\"https://colab.research.google.com/assets/colab-badge.svg\" alt=\"Open In Colab\"/></a>"
      ]
    },
    {
      "cell_type": "code",
      "execution_count": null,
      "metadata": {
        "colab": {
          "base_uri": "https://localhost:8080/"
        },
        "id": "ZjlPsnJLU4iD",
        "outputId": "462d3159-615f-44a0-efab-5f5f421d633e"
      },
      "outputs": [
        {
          "output_type": "stream",
          "name": "stdout",
          "text": [
            "Enter a number: 5\n",
            "5 x 1 = 5\n",
            "5 X 1 = 5\n",
            "5 X 1 = 5\n",
            "5 x 1 = 5 \n",
            "5 x 2 = 10\n",
            "5 X 2 = 10\n",
            "5 X 2 = 10\n",
            "5 x 2 = 10 \n",
            "5 x 3 = 15\n",
            "5 X 3 = 15\n",
            "5 X 3 = 15\n",
            "5 x 3 = 15 \n",
            "5 x 4 = 20\n",
            "5 X 4 = 20\n",
            "5 X 4 = 20\n",
            "5 x 4 = 20 \n",
            "5 x 5 = 25\n",
            "5 X 5 = 25\n",
            "5 X 5 = 25\n",
            "5 x 5 = 25 \n",
            "5 x 6 = 30\n",
            "5 X 6 = 30\n",
            "5 X 6 = 30\n",
            "5 x 6 = 30 \n",
            "5 x 7 = 35\n",
            "5 X 7 = 35\n",
            "5 X 7 = 35\n",
            "5 x 7 = 35 \n",
            "5 x 8 = 40\n",
            "5 X 8 = 40\n",
            "5 X 8 = 40\n",
            "5 x 8 = 40 \n",
            "5 x 9 = 45\n",
            "5 X 9 = 45\n",
            "5 X 9 = 45\n",
            "5 x 9 = 45 \n",
            "5 x 10 = 50\n",
            "5 X 10 = 50\n",
            "5 X 10 = 50\n",
            "5 x 10 = 50 \n"
          ]
        }
      ],
      "source": [
        "num=int(input(\"Enter a number: \"))\n",
        "for i in range(1,11):\n",
        "  print(num,\"x\",i,\"=\",num*i)\n",
        "  print(f'{num} X {i} = {num*i}')\n",
        "  print('{} X {} = {}'.format(num,i,num*i))\n",
        "  print('%d x %d = %d ' %(num,i,num*i))\n"
      ]
    }
  ]
}