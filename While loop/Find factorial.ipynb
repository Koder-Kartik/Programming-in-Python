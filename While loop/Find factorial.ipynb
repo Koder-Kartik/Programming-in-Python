{
  "nbformat": 4,
  "nbformat_minor": 0,
  "metadata": {
    "colab": {
      "provenance": [],
      "authorship_tag": "ABX9TyPQ0LvHxrhdet069b8gSImn",
      "include_colab_link": true
    },
    "kernelspec": {
      "name": "python3",
      "display_name": "Python 3"
    },
    "language_info": {
      "name": "python"
    }
  },
  "cells": [
    {
      "cell_type": "markdown",
      "metadata": {
        "id": "view-in-github",
        "colab_type": "text"
      },
      "source": [
        "<a href=\"https://colab.research.google.com/github/Koder-Kartik/Programming-in-Python/blob/main/While%20loop/Find%20factorial.ipynb\" target=\"_parent\"><img src=\"https://colab.research.google.com/assets/colab-badge.svg\" alt=\"Open In Colab\"/></a>"
      ]
    },
    {
      "cell_type": "code",
      "execution_count": 1,
      "metadata": {
        "colab": {
          "base_uri": "https://localhost:8080/"
        },
        "id": "I7yMpMmRXeFp",
        "outputId": "06a8874a-bea7-4164-abc7-c6c4122c679f"
      },
      "outputs": [
        {
          "output_type": "stream",
          "name": "stdout",
          "text": [
            "Enter a number:5\n",
            "Factorial of the number is 120\n"
          ]
        }
      ],
      "source": [
        "num=int(input(\"Enter a number:\"))\n",
        "fact=1\n",
        "if(num<0):\n",
        "    print(\"Factorial does not exist for negative numbers\")\n",
        "elif(num==0):\n",
        "    print(\"Factorial of 0 is 1\")\n",
        "else:\n",
        "    while(num>0):\n",
        "        fact=fact*num\n",
        "        num=num-1\n",
        "    print(\"Factorial of the number is\",fact)"
      ]
    }
  ]
}