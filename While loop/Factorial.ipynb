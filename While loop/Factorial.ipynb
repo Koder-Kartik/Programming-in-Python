{
  "nbformat": 4,
  "nbformat_minor": 0,
  "metadata": {
    "colab": {
      "provenance": [],
      "authorship_tag": "ABX9TyMbOljkJj3RCKFT8PTJSkWZ",
      "include_colab_link": true
    },
    "kernelspec": {
      "name": "python3",
      "display_name": "Python 3"
    },
    "language_info": {
      "name": "python"
    }
  },
  "cells": [
    {
      "cell_type": "markdown",
      "metadata": {
        "id": "view-in-github",
        "colab_type": "text"
      },
      "source": [
        "<a href=\"https://colab.research.google.com/github/Koder-Kartik/Programming-in-Python/blob/main/While%20loop/Factorial.ipynb\" target=\"_parent\"><img src=\"https://colab.research.google.com/assets/colab-badge.svg\" alt=\"Open In Colab\"/></a>"
      ]
    },
    {
      "cell_type": "code",
      "execution_count": 6,
      "metadata": {
        "colab": {
          "base_uri": "https://localhost:8080/"
        },
        "id": "D_vdzsBeUPTD",
        "outputId": "1fa0a08b-b449-4958-e720-5e723b141614"
      },
      "outputs": [
        {
          "output_type": "stream",
          "name": "stdout",
          "text": [
            "Enter a number \n",
            "10\n",
            "3628800\n"
          ]
        }
      ],
      "source": [
        "print ('Enter a number ')\n",
        "\n",
        "n=int(input())\n",
        "i=1\n",
        "answer=1\n",
        "while(i<=n):\n",
        "    answer=answer*i\n",
        "    i=i+1\n",
        "print(answer)"
      ]
    }
  ]
}