{
  "nbformat": 4,
  "nbformat_minor": 0,
  "metadata": {
    "colab": {
      "provenance": [],
      "authorship_tag": "ABX9TyMvhTOVB4CfZDKIaWHqjKIr"
    },
    "kernelspec": {
      "name": "python3",
      "display_name": "Python 3"
    },
    "language_info": {
      "name": "python"
    }
  },
  "cells": [
    {
      "cell_type": "code",
      "execution_count": null,
      "metadata": {
        "id": "6hUGwF4y8sUU"
      },
      "outputs": [],
      "source": [
        "print('When did India get its independence (year)?')\n",
        "year=int(input())\n",
        "\n",
        "while (year!=1947):\n",
        "  print('You got this wrong .Enter once again.')\n",
        "  year=int(input())\n",
        "\n",
        "print('Wowwww.....you got it right')"
      ]
    }
  ]
}