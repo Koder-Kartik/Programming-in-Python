{
  "nbformat": 4,
  "nbformat_minor": 0,
  "metadata": {
    "colab": {
      "provenance": [],
      "authorship_tag": "ABX9TyMvhTOVB4CfZDKIaWHqjKIr",
      "include_colab_link": true
    },
    "kernelspec": {
      "name": "python3",
      "display_name": "Python 3"
    },
    "language_info": {
      "name": "python"
    }
  },
  "cells": [
    {
      "cell_type": "markdown",
      "metadata": {
        "id": "view-in-github",
        "colab_type": "text"
      },
      "source": [
        "<a href=\"https://colab.research.google.com/github/Koder-Kartik/Programming-in-Python/blob/main/While%20loop/Intro_to_while_loop.ipynb\" target=\"_parent\"><img src=\"https://colab.research.google.com/assets/colab-badge.svg\" alt=\"Open In Colab\"/></a>"
      ]
    },
    {
      "cell_type": "code",
      "execution_count": 4,
      "metadata": {
        "colab": {
          "base_uri": "https://localhost:8080/"
        },
        "id": "6hUGwF4y8sUU",
        "outputId": "9b9f32b7-2eb8-408b-ff66-a664d0c9fa6f"
      },
      "outputs": [
        {
          "output_type": "stream",
          "name": "stdout",
          "text": [
            "When did India get its independence (year)?\n",
            "1965\n",
            "You got this wrong .Enter once again.\n",
            "16548\n",
            "You got this wrong .Enter once again.\n",
            "1947\n",
            "Wowwww.....you got it right\n"
          ]
        }
      ],
      "source": [
        "print('When did India get its independence (year)?')\n",
        "year=int(input())\n",
        "\n",
        "while (year!=1947):\n",
        "  print('You got this wrong .Enter once again.')\n",
        "  year=int(input())\n",
        "\n",
        "print('Wowwww.....you got it right')"
      ]
    }
  ]
}