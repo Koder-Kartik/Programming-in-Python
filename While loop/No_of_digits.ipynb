{
  "nbformat": 4,
  "nbformat_minor": 0,
  "metadata": {
    "colab": {
      "provenance": [],
      "authorship_tag": "ABX9TyPU9No0t3Zb+RV1MN51cHcP",
      "include_colab_link": true
    },
    "kernelspec": {
      "name": "python3",
      "display_name": "Python 3"
    },
    "language_info": {
      "name": "python"
    }
  },
  "cells": [
    {
      "cell_type": "markdown",
      "metadata": {
        "id": "view-in-github",
        "colab_type": "text"
      },
      "source": [
        "<a href=\"https://colab.research.google.com/github/Koder-Kartik/Programming-in-Python/blob/main/While%20loop/No_of_digits.ipynb\" target=\"_parent\"><img src=\"https://colab.research.google.com/assets/colab-badge.svg\" alt=\"Open In Colab\"/></a>"
      ]
    },
    {
      "cell_type": "code",
      "execution_count": 2,
      "metadata": {
        "colab": {
          "base_uri": "https://localhost:8080/"
        },
        "id": "RbqUFmLRdVC3",
        "outputId": "0e6cc7d5-41c9-4551-c2f1-ec5665adfde7"
      },
      "outputs": [
        {
          "output_type": "stream",
          "name": "stdout",
          "text": [
            "Enter a number: 152894632154893212245\n",
            "Number of digits in the given number are:  21\n"
          ]
        }
      ],
      "source": [
        "num=abs(int(input('Enter a number: ')))\n",
        "digits=1\n",
        "while(num>9):\n",
        "  num=num//10\n",
        "  digits=digits+1\n",
        "print('Number of digits in the given number are: ',digits)\n"
      ]
    }
  ]
}