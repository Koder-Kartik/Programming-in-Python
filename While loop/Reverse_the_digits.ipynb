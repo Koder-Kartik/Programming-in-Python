{
  "nbformat": 4,
  "nbformat_minor": 0,
  "metadata": {
    "colab": {
      "provenance": [],
      "authorship_tag": "ABX9TyNiX6KGXaicPXT6noFoPl0y",
      "include_colab_link": true
    },
    "kernelspec": {
      "name": "python3",
      "display_name": "Python 3"
    },
    "language_info": {
      "name": "python"
    }
  },
  "cells": [
    {
      "cell_type": "markdown",
      "metadata": {
        "id": "view-in-github",
        "colab_type": "text"
      },
      "source": [
        "<a href=\"https://colab.research.google.com/github/Koder-Kartik/Programming-in-Python/blob/main/While%20loop/Reverse_the_digits.ipynb\" target=\"_parent\"><img src=\"https://colab.research.google.com/assets/colab-badge.svg\" alt=\"Open In Colab\"/></a>"
      ]
    },
    {
      "cell_type": "code",
      "execution_count": null,
      "metadata": {
        "id": "7P0xVb7ZcdX1"
      },
      "outputs": [],
      "source": [
        "num=int(input(\"enter the number: \"))\n",
        "absNum=abs(num)\n",
        "rev =absNum % 10\n",
        "absNum=absNum//10\n",
        "while(absNum>0):\n",
        "    r=absNum%10\n",
        "    absNum=absNum//10\n",
        "    rev=rev*10+r\n",
        "if(num>0):\n",
        "\n",
        "    print(rev)\n",
        "\n",
        "else:\n",
        "\n",
        "  print(rev-2*rev)\n"
      ]
    }
  ]
}