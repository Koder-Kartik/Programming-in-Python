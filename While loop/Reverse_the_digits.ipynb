{
  "nbformat": 4,
  "nbformat_minor": 0,
  "metadata": {
    "colab": {
      "provenance": [],
      "authorship_tag": "ABX9TyPmC59hnJsG8mkjdrefRSOC",
      "include_colab_link": true
    },
    "kernelspec": {
      "name": "python3",
      "display_name": "Python 3"
    },
    "language_info": {
      "name": "python"
    }
  },
  "cells": [
    {
      "cell_type": "markdown",
      "metadata": {
        "id": "view-in-github",
        "colab_type": "text"
      },
      "source": [
        "<a href=\"https://colab.research.google.com/github/Koder-Kartik/Programming-in-Python/blob/main/While%20loop/Reverse_the_digits.ipynb\" target=\"_parent\"><img src=\"https://colab.research.google.com/assets/colab-badge.svg\" alt=\"Open In Colab\"/></a>"
      ]
    },
    {
      "cell_type": "code",
      "execution_count": 6,
      "metadata": {
        "colab": {
          "base_uri": "https://localhost:8080/"
        },
        "id": "YKWyND18JdIj",
        "outputId": "751f759a-9143-4ea1-ec41-01a42bff6747"
      },
      "outputs": [
        {
          "output_type": "stream",
          "name": "stdout",
          "text": [
            "enter the number:987654321\n",
            "123456789\n"
          ]
        }
      ],
      "source": [
        "num=int(input(\"enter the number:\"))\n",
        "rev=num%10\n",
        "num=num//10\n",
        "while(num>0):\n",
        "    rem=num%10\n",
        "    rev=rev*10+rem\n",
        "    num=num//10\n",
        "print(rev)"
      ]
    }
  ]
}