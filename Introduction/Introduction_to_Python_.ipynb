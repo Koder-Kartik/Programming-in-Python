{
  "nbformat": 4,
  "nbformat_minor": 0,
  "metadata": {
    "colab": {
      "provenance": [],
      "authorship_tag": "ABX9TyOrP/YSmP1Y94g45zH2eQhy",
      "include_colab_link": true
    },
    "kernelspec": {
      "name": "python3",
      "display_name": "Python 3"
    },
    "language_info": {
      "name": "python"
    }
  },
  "cells": [
    {
      "cell_type": "markdown",
      "metadata": {
        "id": "view-in-github",
        "colab_type": "text"
      },
      "source": [
        "<a href=\"https://colab.research.google.com/github/Koder-Kartik/Programming-in-Python/blob/main/Introduction/Introduction_to_Python_.ipynb\" target=\"_parent\"><img src=\"https://colab.research.google.com/assets/colab-badge.svg\" alt=\"Open In Colab\"/></a>"
      ]
    },
    {
      "cell_type": "markdown",
      "source": [
        "#Why Python?"
      ],
      "metadata": {
        "id": "tibq920LZWNv"
      }
    },
    {
      "cell_type": "markdown",
      "source": [
        "Python is an easy-to-learn and powerful Object-Oriented Programming language. It is a high-level programming language.Python works on different platforms (Windows, Mac, Linux, Raspberry Pi, etc)."
      ],
      "metadata": {
        "id": "8vqMh5qFZ7UF"
      }
    },
    {
      "cell_type": "code",
      "source": [
        "# This is a how we write a comment in python.\n",
        "print(\"Hello, World!\")"
      ],
      "metadata": {
        "colab": {
          "base_uri": "https://localhost:8080/"
        },
        "id": "LPVX4Xu6aOCB",
        "outputId": "357b3a8a-4288-4c7b-f081-7448a504a920"
      },
      "execution_count": null,
      "outputs": [
        {
          "output_type": "stream",
          "name": "stdout",
          "text": [
            "Hello, World!\n"
          ]
        }
      ]
    },
    {
      "cell_type": "code",
      "source": [
        "#variables\n",
        "greeting = \"Hello, World!\"\n",
        "print(greeting)"
      ],
      "metadata": {
        "colab": {
          "base_uri": "https://localhost:8080/"
        },
        "id": "ggSvf7_8ayv1",
        "outputId": "7370a17f-0009-43ef-ae69-9b443b4d640c"
      },
      "execution_count": null,
      "outputs": [
        {
          "output_type": "stream",
          "name": "stdout",
          "text": [
            "Hello, World!\n"
          ]
        }
      ]
    },
    {
      "cell_type": "code",
      "source": [
        "b = 5\n",
        "print(b, \"is of type\", type(b))\n",
        "b = 2.0\n",
        "print(b, \"is of type\", type(b))\n",
        "b = 'kartik'\n",
        "print(b, \"is of type\", type(b))"
      ],
      "metadata": {
        "colab": {
          "base_uri": "https://localhost:8080/"
        },
        "collapsed": true,
        "id": "RywlfvXNa-EF",
        "outputId": "e145dd47-6735-402d-8cf1-b32601052749"
      },
      "execution_count": null,
      "outputs": [
        {
          "output_type": "stream",
          "name": "stdout",
          "text": [
            "5 is of type <class 'int'>\n",
            "2.0 is of type <class 'float'>\n",
            "kartik is of type <class 'str'>\n"
          ]
        }
      ]
    },
    {
      "cell_type": "code",
      "source": [
        "# For formatting a date\n",
        "print('01','01','2021', sep='-')\n",
        "\n",
        "# Another example\n",
        "print('kartik','gmail.com', sep='@')"
      ],
      "metadata": {
        "colab": {
          "base_uri": "https://localhost:8080/"
        },
        "id": "54Ild9zJdGb6",
        "outputId": "a81ea2a1-75bc-43af-d8b2-c0207a71aeb3"
      },
      "execution_count": null,
      "outputs": [
        {
          "output_type": "stream",
          "name": "stdout",
          "text": [
            "01-01-2021\n",
            "kartik@gmail.com\n"
          ]
        }
      ]
    },
    {
      "cell_type": "markdown",
      "source": [
        "#Operators"
      ],
      "metadata": {
        "id": "v7pZ9xD9dsGT"
      }
    },
    {
      "cell_type": "markdown",
      "source": [
        "##Arithmetic operators:"
      ],
      "metadata": {
        "id": "FvuceLFKd51f"
      }
    },
    {
      "cell_type": "code",
      "source": [
        "a = 2\n",
        "b = 3\n",
        "print(a+b)\n",
        "print(a-b)\n",
        "print(a*b)\n",
        "print(a/b)\n",
        "print(a**b)\n"
      ],
      "metadata": {
        "colab": {
          "base_uri": "https://localhost:8080/"
        },
        "collapsed": true,
        "id": "wTAXaUIedT_j",
        "outputId": "ba3f8d25-3737-4889-eb76-7d3cb1986290"
      },
      "execution_count": null,
      "outputs": [
        {
          "output_type": "stream",
          "name": "stdout",
          "text": [
            "5\n",
            "-1\n",
            "6\n",
            "0.6666666666666666\n",
            "8\n"
          ]
        }
      ]
    },
    {
      "cell_type": "code",
      "source": [
        "a = 13\n",
        "b=5\n",
        "print('remainder =', a%b)\n",
        "print('quotient =', a//b)\n"
      ],
      "metadata": {
        "colab": {
          "base_uri": "https://localhost:8080/"
        },
        "id": "4fpUqWJdelN7",
        "outputId": "cb928db5-bee8-42fa-b042-1a3c4bce15de"
      },
      "execution_count": null,
      "outputs": [
        {
          "output_type": "stream",
          "name": "stdout",
          "text": [
            "remainder = 3\n",
            "quotient = 2\n"
          ]
        }
      ]
    },
    {
      "cell_type": "code",
      "source": [
        "#What will be the output of the following statements?\n",
        "\n",
        "print(17 // 10)\n",
        "print(17 / 10)\n",
        "print(17 % 10)"
      ],
      "metadata": {
        "colab": {
          "base_uri": "https://localhost:8080/"
        },
        "collapsed": true,
        "id": "DWmWOh48fiPJ",
        "outputId": "e6807b3e-a21b-4827-fb08-4d694c56fed6"
      },
      "execution_count": null,
      "outputs": [
        {
          "output_type": "stream",
          "name": "stdout",
          "text": [
            "1\n",
            "1.7\n",
            "7\n"
          ]
        }
      ]
    },
    {
      "cell_type": "markdown",
      "source": [
        "##Comparison Operators"
      ],
      "metadata": {
        "id": "NXNf0BZCgIMC"
      }
    },
    {
      "cell_type": "code",
      "source": [
        "print(2==3)\n",
        "print(2!=3)\n",
        "print(2>3)\n",
        "print(2<3)\n",
        "print(2>=3)\n",
        "print(2<=3)"
      ],
      "metadata": {
        "colab": {
          "base_uri": "https://localhost:8080/"
        },
        "id": "zRNWKl9_gOki",
        "outputId": "81f41279-295a-41cc-d6a0-73601114406a"
      },
      "execution_count": null,
      "outputs": [
        {
          "output_type": "stream",
          "name": "stdout",
          "text": [
            "False\n",
            "True\n",
            "False\n",
            "True\n",
            "False\n",
            "True\n"
          ]
        }
      ]
    },
    {
      "cell_type": "code",
      "source": [
        "#What will be the output of the following statements?\n",
        "\n",
        "5 > 4 and 4 > 3 and 3 > 2"
      ],
      "metadata": {
        "colab": {
          "base_uri": "https://localhost:8080/"
        },
        "collapsed": true,
        "id": "OZb4w0i_gzXt",
        "outputId": "2bb979ad-8bf3-4226-86f1-91cf13e165ad"
      },
      "execution_count": null,
      "outputs": [
        {
          "output_type": "execute_result",
          "data": {
            "text/plain": [
              "True"
            ]
          },
          "metadata": {},
          "execution_count": 55
        }
      ]
    },
    {
      "cell_type": "code",
      "source": [
        "5 > 4 and 4 > 3 and 3 < 2"
      ],
      "metadata": {
        "colab": {
          "base_uri": "https://localhost:8080/"
        },
        "collapsed": true,
        "id": "cMUmJDifhUCL",
        "outputId": "55103e7d-7fa2-42b5-bba3-4298d6b9b56b"
      },
      "execution_count": null,
      "outputs": [
        {
          "output_type": "execute_result",
          "data": {
            "text/plain": [
              "False"
            ]
          },
          "metadata": {},
          "execution_count": 56
        }
      ]
    },
    {
      "cell_type": "code",
      "source": [
        "5 > 4 or 4 > 3 or 3 < 2"
      ],
      "metadata": {
        "colab": {
          "base_uri": "https://localhost:8080/"
        },
        "collapsed": true,
        "id": "BGM7LPm-hdSR",
        "outputId": "d7d965a5-e83f-43f2-8f8e-5d70e2165f41"
      },
      "execution_count": null,
      "outputs": [
        {
          "output_type": "execute_result",
          "data": {
            "text/plain": [
              "True"
            ]
          },
          "metadata": {},
          "execution_count": 57
        }
      ]
    },
    {
      "cell_type": "markdown",
      "source": [
        "##Logical Operators"
      ],
      "metadata": {
        "id": "fVMIFByNh8dk"
      }
    },
    {
      "cell_type": "code",
      "source": [
        "x = True\n",
        "y = False\n",
        "\n",
        "\n",
        "print(x and y)\n",
        "\n",
        "print(x or y)\n",
        "\n",
        "\n",
        "print(not x)"
      ],
      "metadata": {
        "colab": {
          "base_uri": "https://localhost:8080/"
        },
        "id": "S-LW2R6uhnkW",
        "outputId": "2612aba3-ff3d-438d-9d45-77ddc9d1a699"
      },
      "execution_count": null,
      "outputs": [
        {
          "output_type": "stream",
          "name": "stdout",
          "text": [
            "False\n",
            "True\n",
            "False\n"
          ]
        }
      ]
    },
    {
      "cell_type": "markdown",
      "source": [
        "##Membership Operators"
      ],
      "metadata": {
        "id": "H1PPKWryoG44"
      }
    },
    {
      "cell_type": "code",
      "source": [
        "#The membership operators in Python are in and not in which are used to test if a value exists in a sequence.\n",
        "\n",
        "x = 'Kartik'\n",
        "list = [1,2,3]\n",
        "\n",
        "print('S' in x)\n",
        "print('ik' not in x)\n",
        "print(3 in list)\n",
        "print('k' in x)"
      ],
      "metadata": {
        "colab": {
          "base_uri": "https://localhost:8080/"
        },
        "id": "4Dv4SYbDoIqH",
        "outputId": "9d067618-0bf6-40ad-b88e-67189b5c8a1b"
      },
      "execution_count": null,
      "outputs": [
        {
          "output_type": "stream",
          "name": "stdout",
          "text": [
            "False\n",
            "False\n",
            "True\n",
            "True\n"
          ]
        }
      ]
    },
    {
      "cell_type": "code",
      "source": [
        "#What will be the output of the following statement?\n",
        "\n",
        "print('s' in 'saif')\n",
        "print('e' in 'azmat')"
      ],
      "metadata": {
        "colab": {
          "base_uri": "https://localhost:8080/"
        },
        "collapsed": true,
        "id": "up8ZWQRboowW",
        "outputId": "ba972bec-80a7-4464-8c63-cafa1101bc19"
      },
      "execution_count": null,
      "outputs": [
        {
          "output_type": "stream",
          "name": "stdout",
          "text": [
            "True\n",
            "False\n"
          ]
        }
      ]
    },
    {
      "cell_type": "markdown",
      "source": [
        "#Input from user"
      ],
      "metadata": {
        "id": "c3ANyp45pWkB"
      }
    },
    {
      "cell_type": "code",
      "source": [
        "x = int(input())\n",
        "print(x)"
      ],
      "metadata": {
        "colab": {
          "base_uri": "https://localhost:8080/"
        },
        "id": "WiWxJZ7VpWM6",
        "outputId": "5d000fa4-bd42-4b25-a593-a32754ad3319"
      },
      "execution_count": null,
      "outputs": [
        {
          "output_type": "stream",
          "name": "stdout",
          "text": [
            "123\n",
            "123\n"
          ]
        }
      ]
    },
    {
      "cell_type": "code",
      "source": [
        "x=input(\"What is your name ?\")\n",
        "print('Hello',x)"
      ],
      "metadata": {
        "collapsed": true,
        "id": "pcj3_2nWptue"
      },
      "execution_count": null,
      "outputs": []
    },
    {
      "cell_type": "markdown",
      "source": [
        "#Strings"
      ],
      "metadata": {
        "id": "QUmeycEoqn-P"
      }
    },
    {
      "cell_type": "code",
      "source": [
        "a=\"kartik\"\n",
        "print(type (a))"
      ],
      "metadata": {
        "colab": {
          "base_uri": "https://localhost:8080/"
        },
        "id": "cDv0Hf_XqsUk",
        "outputId": "6c2f4062-8741-4306-d7e2-d7716de46abf"
      },
      "execution_count": null,
      "outputs": [
        {
          "output_type": "stream",
          "name": "stdout",
          "text": [
            "<class 'str'>\n"
          ]
        }
      ]
    },
    {
      "cell_type": "code",
      "source": [
        "\n",
        "s='coffee'\n",
        "print(s[0])\n",
        "print(s[1])\n",
        "print(s[2])\n",
        "print(s[3])\n",
        "print(s[4])\n",
        "print(s[5])"
      ],
      "metadata": {
        "colab": {
          "base_uri": "https://localhost:8080/"
        },
        "collapsed": true,
        "id": "X-TcSQJBrKqY",
        "outputId": "d84bae76-1330-43d1-ef64-d533a4166379"
      },
      "execution_count": null,
      "outputs": [
        {
          "output_type": "stream",
          "name": "stdout",
          "text": [
            "c\n",
            "o\n",
            "f\n",
            "f\n",
            "e\n",
            "e\n"
          ]
        }
      ]
    },
    {
      "cell_type": "code",
      "source": [
        "s='python'\n",
        "print(s[-1])\n",
        "print(s[-2])\n",
        "print(s[-3])\n",
        "print(s[-4])\n",
        "print(s[-5])\n",
        "print(s[-6])"
      ],
      "metadata": {
        "colab": {
          "base_uri": "https://localhost:8080/"
        },
        "collapsed": true,
        "id": "B2u75qA3tJfW",
        "outputId": "fa603503-5360-4b9b-9880-69fb08c9c9e9"
      },
      "execution_count": null,
      "outputs": [
        {
          "output_type": "stream",
          "name": "stdout",
          "text": [
            "n\n",
            "o\n",
            "h\n",
            "t\n",
            "y\n",
            "p\n"
          ]
        }
      ]
    },
    {
      "cell_type": "code",
      "source": [
        "#String Slicing\n",
        "s='coffee'\n",
        "print(s[0:3])\n",
        "print(s[3:6])"
      ],
      "metadata": {
        "colab": {
          "base_uri": "https://localhost:8080/"
        },
        "collapsed": true,
        "id": "0logRE8LrX7C",
        "outputId": "1b408ad2-c0ec-4dfd-8bf4-688d4e05b9d4"
      },
      "execution_count": null,
      "outputs": [
        {
          "output_type": "stream",
          "name": "stdout",
          "text": [
            "cof\n",
            "fee\n"
          ]
        }
      ]
    },
    {
      "cell_type": "code",
      "source": [
        "s='0123456789'\n",
        "a=s[4]\n",
        "b=s[7]\n",
        "print(a+b)"
      ],
      "metadata": {
        "colab": {
          "base_uri": "https://localhost:8080/"
        },
        "collapsed": true,
        "id": "Kqm5UeORrm0y",
        "outputId": "8751353b-640c-48e1-8d01-814f24e18450"
      },
      "execution_count": null,
      "outputs": [
        {
          "output_type": "stream",
          "name": "stdout",
          "text": [
            "47\n"
          ]
        }
      ]
    },
    {
      "cell_type": "code",
      "source": [
        "a='auto'\n",
        "b='mobile'\n",
        "print(a+b)"
      ],
      "metadata": {
        "colab": {
          "base_uri": "https://localhost:8080/"
        },
        "collapsed": true,
        "id": "2B50w8Jet0rb",
        "outputId": "8915ce8f-55fd-4832-d7cb-0da680168b2f"
      },
      "execution_count": null,
      "outputs": [
        {
          "output_type": "stream",
          "name": "stdout",
          "text": [
            "automobile\n"
          ]
        }
      ]
    },
    {
      "cell_type": "code",
      "source": [
        "s='good'\n",
        "print(s*5)"
      ],
      "metadata": {
        "colab": {
          "base_uri": "https://localhost:8080/"
        },
        "collapsed": true,
        "id": "jl6Qzbg2s4Rq",
        "outputId": "21fa1cd7-3fda-4f6a-aa58-db18541f0ab1"
      },
      "execution_count": null,
      "outputs": [
        {
          "output_type": "stream",
          "name": "stdout",
          "text": [
            "goodgoodgoodgoodgood\n"
          ]
        }
      ]
    },
    {
      "cell_type": "markdown",
      "source": [
        "#Conditional statements and loop"
      ],
      "metadata": {
        "id": "P6Gol8fKufgG"
      }
    },
    {
      "cell_type": "code",
      "source": [
        "if 10 == 10:\n",
        "    print(\"I am happy\")\n"
      ],
      "metadata": {
        "colab": {
          "base_uri": "https://localhost:8080/"
        },
        "id": "4RBlKFZntCI3",
        "outputId": "a6044d7d-6793-4ea0-8457-df11625ce963"
      },
      "execution_count": null,
      "outputs": [
        {
          "output_type": "stream",
          "name": "stdout",
          "text": [
            "I am happy\n"
          ]
        }
      ]
    },
    {
      "cell_type": "code",
      "source": [
        "n = int(input())\n",
        "\n",
        "if n % 2 == 0:\n",
        "    print(n,\"is even.\")\n",
        "else:\n",
        "    print(n,\"is odd.\")"
      ],
      "metadata": {
        "colab": {
          "base_uri": "https://localhost:8080/"
        },
        "id": "ZJYGRu4DvQ-K",
        "outputId": "297aa3bc-b0c4-4811-e704-15a69b10996a"
      },
      "execution_count": null,
      "outputs": [
        {
          "output_type": "stream",
          "name": "stdout",
          "text": [
            "5\n",
            "5 is odd.\n"
          ]
        }
      ]
    },
    {
      "cell_type": "code",
      "source": [
        "#find the largest among three number\n",
        "a = 5\n",
        "b = 6\n",
        "c = 4\n",
        "\n",
        "if a >= b and a >= c:\n",
        "    print(\"a is greater\")\n",
        "\n",
        "elif b >= c and b >= a:\n",
        "    print(\"b is greater\")\n",
        "\n",
        "else:\n",
        "    print(\"c is greater\")"
      ],
      "metadata": {
        "colab": {
          "base_uri": "https://localhost:8080/"
        },
        "collapsed": true,
        "id": "YliTmeB6vlt2",
        "outputId": "7009cefa-5e5d-448a-c106-49f55ef9c183"
      },
      "execution_count": null,
      "outputs": [
        {
          "output_type": "stream",
          "name": "stdout",
          "text": [
            "b is greater\n"
          ]
        }
      ]
    },
    {
      "cell_type": "code",
      "source": [
        "#What will be the output of the following code?\n",
        "\n",
        "if 5 > 10:\n",
        "    print(\"Coding\")\n",
        "elif 8 != 9:\n",
        "    print(\"Ninja\")\n",
        "else:\n",
        "    print(\"DSA\")"
      ],
      "metadata": {
        "colab": {
          "base_uri": "https://localhost:8080/"
        },
        "collapsed": true,
        "id": "syGks8uvwPIV",
        "outputId": "d7063638-6c60-402b-879f-5c573afdfe53"
      },
      "execution_count": null,
      "outputs": [
        {
          "output_type": "stream",
          "name": "stdout",
          "text": [
            "Ninja\n"
          ]
        }
      ]
    },
    {
      "cell_type": "code",
      "source": [
        "if 15 > 5:\n",
        "    print(\"Hello\")\n",
        "elif 10 >= 10:\n",
        "    print(\"World\")\n",
        "else:\n",
        "    print(\"Hello World!\")"
      ],
      "metadata": {
        "colab": {
          "base_uri": "https://localhost:8080/"
        },
        "collapsed": true,
        "id": "GRzIH8Awwa2-",
        "outputId": "012d3ee2-fdc1-4736-8ce3-c5b7a448e089"
      },
      "execution_count": null,
      "outputs": [
        {
          "output_type": "stream",
          "name": "stdout",
          "text": [
            "Hello\n"
          ]
        }
      ]
    },
    {
      "cell_type": "markdown",
      "source": [
        "##for loop\n"
      ],
      "metadata": {
        "id": "XH01F6M-xIhT"
      }
    },
    {
      "cell_type": "code",
      "source": [
        "#Print all numbers from 0 to n.\n",
        "\n",
        "n = int(input())\n",
        "\n",
        "for i in range(n + 1):\n",
        "    print(i)"
      ],
      "metadata": {
        "colab": {
          "base_uri": "https://localhost:8080/"
        },
        "id": "hLgYlWfiweK5",
        "outputId": "29368223-f23e-47eb-f97a-2599bc8b044d"
      },
      "execution_count": null,
      "outputs": [
        {
          "output_type": "stream",
          "name": "stdout",
          "text": [
            "5\n",
            "0\n",
            "1\n",
            "2\n",
            "3\n",
            "4\n",
            "5\n"
          ]
        }
      ]
    }
  ]
}