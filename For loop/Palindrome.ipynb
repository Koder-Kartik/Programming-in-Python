{
  "nbformat": 4,
  "nbformat_minor": 0,
  "metadata": {
    "colab": {
      "provenance": [],
      "authorship_tag": "ABX9TyNugLi04yFj7vx5q9nKVZ+W",
      "include_colab_link": true
    },
    "kernelspec": {
      "name": "python3",
      "display_name": "Python 3"
    },
    "language_info": {
      "name": "python"
    }
  },
  "cells": [
    {
      "cell_type": "markdown",
      "metadata": {
        "id": "view-in-github",
        "colab_type": "text"
      },
      "source": [
        "<a href=\"https://colab.research.google.com/github/Koder-Kartik/Programming-in-Python/blob/main/For%20loop/Palindrome.ipynb\" target=\"_parent\"><img src=\"https://colab.research.google.com/assets/colab-badge.svg\" alt=\"Open In Colab\"/></a>"
      ]
    },
    {
      "cell_type": "code",
      "execution_count": 3,
      "metadata": {
        "colab": {
          "base_uri": "https://localhost:8080/"
        },
        "id": "qNLvOLOqYF9z",
        "outputId": "1e73c52b-7eae-4111-f275-4c2b38859740"
      },
      "outputs": [
        {
          "output_type": "stream",
          "name": "stdout",
          "text": [
            "Enter a number: 123456789987654321\n",
            "123456789987654321 is a palindrome\n"
          ]
        }
      ],
      "source": [
        "num=int(input(\"Enter a number: \"))\n",
        "absStrNum=str(abs(num))\n",
        "rev=''\n",
        "for c in absStrNum:\n",
        "  rev=c+rev\n",
        "if(num<0):\n",
        "  rev='-'+rev\n",
        "if(num==int(rev)):\n",
        "  print(num,\"is a palindrome\")\n",
        "else:\n",
        "  print(num,\"is not a palindrome\")"
      ]
    }
  ]
}