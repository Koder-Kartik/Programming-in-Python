{
  "nbformat": 4,
  "nbformat_minor": 0,
  "metadata": {
    "colab": {
      "provenance": [],
      "authorship_tag": "ABX9TyNip4rOzU7EJJZHEn2cyLF5",
      "include_colab_link": true
    },
    "kernelspec": {
      "name": "python3",
      "display_name": "Python 3"
    },
    "language_info": {
      "name": "python"
    }
  },
  "cells": [
    {
      "cell_type": "markdown",
      "metadata": {
        "id": "view-in-github",
        "colab_type": "text"
      },
      "source": [
        "<a href=\"https://colab.research.google.com/github/Koder-Kartik/Programming-in-Python/blob/main/For%20loop/Factorial.ipynb\" target=\"_parent\"><img src=\"https://colab.research.google.com/assets/colab-badge.svg\" alt=\"Open In Colab\"/></a>"
      ]
    },
    {
      "cell_type": "code",
      "execution_count": 3,
      "metadata": {
        "id": "oNQGHBXrJdNC",
        "colab": {
          "base_uri": "https://localhost:8080/"
        },
        "outputId": "3e76a5d6-1172-414f-99f0-e1af4410a79e"
      },
      "outputs": [
        {
          "output_type": "stream",
          "name": "stdout",
          "text": [
            "Enter a number: 5\n",
            "Factorial of 5 is 120\n"
          ]
        }
      ],
      "source": [
        "num=int(input('Enter a number: '))\n",
        "fact=1\n",
        "if(num<0):\n",
        "    print('Factorial does not exist for negative numbers')\n",
        "elif(num==0):\n",
        "    print('Factorial of 0 is 1')\n",
        "else:\n",
        "    for i in range(1,num+1):\n",
        "        fact=fact*i\n",
        "    print('Factorial of',num,'is',fact)\n"
      ]
    }
  ]
}