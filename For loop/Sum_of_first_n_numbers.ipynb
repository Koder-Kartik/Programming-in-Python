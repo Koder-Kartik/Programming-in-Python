{
  "nbformat": 4,
  "nbformat_minor": 0,
  "metadata": {
    "colab": {
      "provenance": [],
      "authorship_tag": "ABX9TyNudDAZnpgy812NWO01JEut",
      "include_colab_link": true
    },
    "kernelspec": {
      "name": "python3",
      "display_name": "Python 3"
    },
    "language_info": {
      "name": "python"
    }
  },
  "cells": [
    {
      "cell_type": "markdown",
      "metadata": {
        "id": "view-in-github",
        "colab_type": "text"
      },
      "source": [
        "<a href=\"https://colab.research.google.com/github/Koder-Kartik/Programming-in-Python/blob/main/For%20loop/Sum_of_first_n_numbers.ipynb\" target=\"_parent\"><img src=\"https://colab.research.google.com/assets/colab-badge.svg\" alt=\"Open In Colab\"/></a>"
      ]
    },
    {
      "cell_type": "code",
      "execution_count": 13,
      "metadata": {
        "colab": {
          "base_uri": "https://localhost:8080/"
        },
        "id": "d2zwiQdQcoF5",
        "outputId": "b391506d-05ef-4075-c7fd-77426574ff45"
      },
      "outputs": [
        {
          "output_type": "stream",
          "name": "stdout",
          "text": [
            "Enter a number: 1562\n",
            "The answer is: 1219141\n"
          ]
        }
      ],
      "source": [
        "n=int(input('Enter a number: '))\n",
        "sum=0\n",
        "for i in range (n):\n",
        "    sum = sum + i\n",
        "\n",
        "print('The answer is:',sum)"
      ]
    }
  ]
}