{
  "nbformat": 4,
  "nbformat_minor": 0,
  "metadata": {
    "colab": {
      "provenance": [],
      "authorship_tag": "ABX9TyMUxnBJyainttAs1PN1THj9",
      "include_colab_link": true
    },
    "kernelspec": {
      "name": "python3",
      "display_name": "Python 3"
    },
    "language_info": {
      "name": "python"
    }
  },
  "cells": [
    {
      "cell_type": "markdown",
      "metadata": {
        "id": "view-in-github",
        "colab_type": "text"
      },
      "source": [
        "<a href=\"https://colab.research.google.com/github/Koder-Kartik/Programming-in-Python/blob/main/For%20loop/Multiplication_Table.ipynb\" target=\"_parent\"><img src=\"https://colab.research.google.com/assets/colab-badge.svg\" alt=\"Open In Colab\"/></a>"
      ]
    },
    {
      "cell_type": "code",
      "execution_count": 18,
      "metadata": {
        "colab": {
          "base_uri": "https://localhost:8080/"
        },
        "id": "K5pUzc9sgm2q",
        "outputId": "32486bc0-63f8-43b2-ff74-4690ab99ffc4"
      },
      "outputs": [
        {
          "output_type": "stream",
          "name": "stdout",
          "text": [
            "Enter a number: 19\n",
            "2 x 1  = 2\n",
            "2 x 2  = 4\n",
            "2 x 3  = 6\n",
            "2 x 4  = 8\n",
            "2 x 5  = 10\n",
            "2 x 6  = 12\n",
            "2 x 7  = 14\n",
            "2 x 8  = 16\n",
            "2 x 9  = 18\n",
            "2 x 10  = 20\n",
            "2 x 11  = 22\n",
            "2 x 12  = 24\n",
            "2 x 13  = 26\n",
            "2 x 14  = 28\n",
            "2 x 15  = 30\n",
            "2 x 16  = 32\n",
            "2 x 17  = 34\n",
            "2 x 18  = 36\n"
          ]
        }
      ],
      "source": [
        "n=int(input('Enter a number: '))\n",
        "for i in range(1,n):\n",
        "  print (\"2 x\",i , ' =',i*2)"
      ]
    }
  ]
}