{
  "nbformat": 4,
  "nbformat_minor": 0,
  "metadata": {
    "colab": {
      "provenance": [],
      "authorship_tag": "ABX9TyM/xSEEUZqUgoqM0EAbWUlw",
      "include_colab_link": true
    },
    "kernelspec": {
      "name": "python3",
      "display_name": "Python 3"
    },
    "language_info": {
      "name": "python"
    }
  },
  "cells": [
    {
      "cell_type": "markdown",
      "metadata": {
        "id": "view-in-github",
        "colab_type": "text"
      },
      "source": [
        "<a href=\"https://colab.research.google.com/github/Koder-Kartik/Programming-in-Python/blob/main/For%20loop/Digits.ipynb\" target=\"_parent\"><img src=\"https://colab.research.google.com/assets/colab-badge.svg\" alt=\"Open In Colab\"/></a>"
      ]
    },
    {
      "cell_type": "code",
      "execution_count": 2,
      "metadata": {
        "colab": {
          "base_uri": "https://localhost:8080/"
        },
        "id": "Oam56iMBVPee",
        "outputId": "8f924b08-cc3f-4958-e800-ee83baca3f84"
      },
      "outputs": [
        {
          "output_type": "stream",
          "name": "stdout",
          "text": [
            "Enter a number:854698752165\n",
            "The number of digits in 854698752165 is 12\n"
          ]
        }
      ],
      "source": [
        "num=abs(int(input('Enter a number:')))\n",
        "strNum=str(num)\n",
        "digits=0\n",
        "for c in strNum:\n",
        "  digits=digits+1\n",
        "print('The number of digits in',num,'is',digits)"
      ]
    }
  ]
}