{
  "nbformat": 4,
  "nbformat_minor": 0,
  "metadata": {
    "colab": {
      "provenance": [],
      "authorship_tag": "ABX9TyPQTm23ANvDyNksRWAfsu6c",
      "include_colab_link": true
    },
    "kernelspec": {
      "name": "python3",
      "display_name": "Python 3"
    },
    "language_info": {
      "name": "python"
    }
  },
  "cells": [
    {
      "cell_type": "markdown",
      "metadata": {
        "id": "view-in-github",
        "colab_type": "text"
      },
      "source": [
        "<a href=\"https://colab.research.google.com/github/Koder-Kartik/Programming-in-Python/blob/main/For%20loop/Reverse_Digits.ipynb\" target=\"_parent\"><img src=\"https://colab.research.google.com/assets/colab-badge.svg\" alt=\"Open In Colab\"/></a>"
      ]
    },
    {
      "cell_type": "code",
      "execution_count": 5,
      "metadata": {
        "colab": {
          "base_uri": "https://localhost:8080/"
        },
        "id": "cehrXQBAVsRC",
        "outputId": "a81a5204-f507-4b4a-d459-d1ae77ebdf75"
      },
      "outputs": [
        {
          "output_type": "stream",
          "name": "stdout",
          "text": [
            "Enter a number: 987654321\n",
            "123456789\n"
          ]
        }
      ],
      "source": [
        "num=int(input('Enter a number: '))\n",
        "absStrNum=str(abs(num))\n",
        "rev=''\n",
        "for c in absStrNum:\n",
        "  rev=c+rev\n",
        "if(num>=0):\n",
        "  print(rev)\n",
        "else:\n",
        "  print('-'+rev)"
      ]
    }
  ]
}