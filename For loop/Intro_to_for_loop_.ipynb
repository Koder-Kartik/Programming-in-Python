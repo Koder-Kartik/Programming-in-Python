{
  "nbformat": 4,
  "nbformat_minor": 0,
  "metadata": {
    "colab": {
      "provenance": [],
      "authorship_tag": "ABX9TyObu0M2q8Jz/d1NqTwVsAdU",
      "include_colab_link": true
    },
    "kernelspec": {
      "name": "python3",
      "display_name": "Python 3"
    },
    "language_info": {
      "name": "python"
    }
  },
  "cells": [
    {
      "cell_type": "markdown",
      "metadata": {
        "id": "view-in-github",
        "colab_type": "text"
      },
      "source": [
        "<a href=\"https://colab.research.google.com/github/Koder-Kartik/Programming-in-Python/blob/main/For%20loop/Intro_to_for_loop_.ipynb\" target=\"_parent\"><img src=\"https://colab.research.google.com/assets/colab-badge.svg\" alt=\"Open In Colab\"/></a>"
      ]
    },
    {
      "cell_type": "code",
      "execution_count": 5,
      "metadata": {
        "colab": {
          "base_uri": "https://localhost:8080/"
        },
        "id": "vcBX4d4YaGz5",
        "outputId": "4e9fb6b3-aba9-42d9-daa8-605b1be13bd8"
      },
      "outputs": [
        {
          "output_type": "stream",
          "name": "stdout",
          "text": [
            "Enter a number : 1259\n",
            "1259 is an odd number\n"
          ]
        }
      ],
      "source": [
        "n = int(input('Enter a number : '))\n",
        "\n",
        "for i in range (n):\n",
        "  if(n%2==0):\n",
        "    print(n,'is an even number')\n",
        "    break\n",
        "  else:\n",
        "    print(n,'is an odd number')\n",
        "    break\n"
      ]
    }
  ]
}